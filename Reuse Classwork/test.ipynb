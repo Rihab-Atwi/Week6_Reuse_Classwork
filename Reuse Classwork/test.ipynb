{
 "cells": [
  {
   "cell_type": "code",
   "execution_count": 8,
   "metadata": {},
   "outputs": [],
   "source": [
    "import pandas as pd\n",
    "import psycopg2\n",
    "import database_handler\n",
    "from lookups import CSVFiles, CSVDirectory\n",
    "from logging_handler import show_error_message\n",
    "from prehook import create_csv_staging_tables, execute_sql_folder"
   ]
  },
  {
   "cell_type": "code",
   "execution_count": 9,
   "metadata": {},
   "outputs": [],
   "source": [
    "sql_command_directory_path = './SQL_Commands'  # Replace with the path to your SQL directory\n",
    "db_session = database_handler.create_connection()  # Create a database connection\n",
    "execute_sql_folder(db_session, sql_command_directory_path)  # Run SQL prehooks\n",
    "database_handler.close_connection(db_session)  # Close the database connection"
   ]
  },
  {
   "cell_type": "code",
   "execution_count": 10,
   "metadata": {},
   "outputs": [],
   "source": [
    "db_session = database_handler.create_connection()"
   ]
  },
  {
   "cell_type": "code",
   "execution_count": 11,
   "metadata": {},
   "outputs": [],
   "source": [
    "create_csv_staging_tables(db_session, CSVDirectory.PURCHASE_DIRECTORY.value,CSVFiles.PURCHASE.value )"
   ]
  }
 ],
 "metadata": {
  "kernelspec": {
   "display_name": "se_etl_env",
   "language": "python",
   "name": "python3"
  },
  "language_info": {
   "codemirror_mode": {
    "name": "ipython",
    "version": 3
   },
   "file_extension": ".py",
   "mimetype": "text/x-python",
   "name": "python",
   "nbconvert_exporter": "python",
   "pygments_lexer": "ipython3",
   "version": "3.10.9"
  },
  "orig_nbformat": 4
 },
 "nbformat": 4,
 "nbformat_minor": 2
}
